{
  "nbformat": 4,
  "nbformat_minor": 0,
  "metadata": {
    "colab": {
      "name": "Copia de Copia de test2.2_map.ipynb",
      "provenance": [],
      "include_colab_link": true
    },
    "kernelspec": {
      "name": "python3",
      "display_name": "Python 3"
    }
  },
  "cells": [
    {
      "cell_type": "markdown",
      "metadata": {
        "id": "view-in-github",
        "colab_type": "text"
      },
      "source": [
        "<a href=\"https://colab.research.google.com/github/ItchelTG/CdeCMx/blob/master/Copia_de_Copia_de_test2_2_map.ipynb\" target=\"_parent\"><img src=\"https://colab.research.google.com/assets/colab-badge.svg\" alt=\"Open In Colab\"/></a>"
      ]
    },
    {
      "cell_type": "code",
      "metadata": {
        "id": "8brRCyBztgnL",
        "colab_type": "code",
        "colab": {
          "base_uri": "https://localhost:8080/",
          "height": 255
        },
        "outputId": "3f161290-3268-4e4c-b123-e5436368f593"
      },
      "source": [
        "!pip install geopy\n",
        "!pip install mplleaflet"
      ],
      "execution_count": null,
      "outputs": [
        {
          "output_type": "stream",
          "text": [
            "Requirement already satisfied: geopy in /usr/local/lib/python3.6/dist-packages (1.17.0)\n",
            "Requirement already satisfied: geographiclib<2,>=1.49 in /usr/local/lib/python3.6/dist-packages (from geopy) (1.50)\n",
            "Collecting mplleaflet\n",
            "  Downloading https://files.pythonhosted.org/packages/05/b3/e68ff575ef0872e096878c75f602e76b06ca44d7038d69d867c7b800745b/mplleaflet-0.0.5.tar.gz\n",
            "Requirement already satisfied: jinja2 in /usr/local/lib/python3.6/dist-packages (from mplleaflet) (2.11.2)\n",
            "Requirement already satisfied: six in /usr/local/lib/python3.6/dist-packages (from mplleaflet) (1.15.0)\n",
            "Requirement already satisfied: MarkupSafe>=0.23 in /usr/local/lib/python3.6/dist-packages (from jinja2->mplleaflet) (1.1.1)\n",
            "Building wheels for collected packages: mplleaflet\n",
            "  Building wheel for mplleaflet (setup.py) ... \u001b[?25l\u001b[?25hdone\n",
            "  Created wheel for mplleaflet: filename=mplleaflet-0.0.5-cp36-none-any.whl size=28556 sha256=1c7d4e53bd1cf3625dddc25f2a63185e2464f0fe39c5b0b8def6d63bb9873f50\n",
            "  Stored in directory: /root/.cache/pip/wheels/bf/fd/0b/0513de62c339c4a56e2234aa42a5d06e6660a4446fdae7b796\n",
            "Successfully built mplleaflet\n",
            "Installing collected packages: mplleaflet\n",
            "Successfully installed mplleaflet-0.0.5\n"
          ],
          "name": "stdout"
        }
      ]
    },
    {
      "cell_type": "code",
      "metadata": {
        "id": "pHthysrtKqD3",
        "colab_type": "code",
        "colab": {}
      },
      "source": [
        "import numpy as np\n",
        "import pandas as pd\n",
        "import networkx as nx\n",
        "import matplotlib.pyplot as plt\n",
        "import plotly.express as px\n",
        "import mplleaflet\n",
        "from geopy.geocoders import Nominatim\n",
        "from scipy.spatial.distance import cdist"
      ],
      "execution_count": null,
      "outputs": []
    },
    {
      "cell_type": "code",
      "metadata": {
        "id": "y0NfkTcqPcjx",
        "colab_type": "code",
        "colab": {}
      },
      "source": [
        "def vecinos(df,r,i):\n",
        "  return df[df[i] < r][i]"
      ],
      "execution_count": null,
      "outputs": []
    },
    {
      "cell_type": "code",
      "metadata": {
        "id": "9TGyVyNOKy5C",
        "colab_type": "code",
        "colab": {
          "base_uri": "https://localhost:8080/",
          "height": 105
        },
        "outputId": "5fd7e66a-cb92-409d-a732-c45d27d8b08d"
      },
      "source": [
        "geolocator = Nominatim()\n",
        "estados = ['Ensenada','Mexicali','Tecate',      # Municipios del estado\n",
        "           'Tijuana','Playas de Rosarito']"
      ],
      "execution_count": null,
      "outputs": [
        {
          "output_type": "stream",
          "text": [
            "/usr/local/lib/python3.6/dist-packages/geopy/geocoders/osm.py:143: UserWarning:\n",
            "\n",
            "Using Nominatim with the default \"geopy/1.17.0\" `user_agent` is strongly discouraged, as it violates Nominatim's ToS https://operations.osmfoundation.org/policies/nominatim/ and may possibly cause 403 and 429 HTTP errors. Please specify a custom `user_agent` with `Nominatim(user_agent=\"my-application\")` or by overriding the default `user_agent`: `geopy.geocoders.options.default_user_agent = \"my-application\"`. In geopy 2.0 this will become an exception.\n",
            "\n"
          ],
          "name": "stderr"
        }
      ]
    },
    {
      "cell_type": "code",
      "metadata": {
        "id": "tvCQTZ6rLjkY",
        "colab_type": "code",
        "colab": {}
      },
      "source": [
        "latlist=[]\n",
        "lonlist=[]\n",
        "for municipio in estados:\n",
        "  loc = geolocator.geocode(municipio)\n",
        "  latlist.append(loc.latitude)\n",
        "  lonlist.append(loc.longitude)"
      ],
      "execution_count": null,
      "outputs": []
    },
    {
      "cell_type": "code",
      "metadata": {
        "id": "KO_APoQ_Mdpv",
        "colab_type": "code",
        "colab": {}
      },
      "source": [
        "df_loc = pd.DataFrame(list(zip(latlist,lonlist)),\n",
        "                      columns =['Lat', 'Lon'])\n",
        "n = len(df_loc.values)\n",
        "#df_loc"
      ],
      "execution_count": null,
      "outputs": []
    },
    {
      "cell_type": "code",
      "metadata": {
        "id": "XNCS6CTZRPRZ",
        "colab_type": "code",
        "colab": {}
      },
      "source": [
        "distancias = cdist(df_loc.values, df_loc.values, 'euclidean')\n",
        "df_dist = pd.DataFrame(data=distancias)"
      ],
      "execution_count": null,
      "outputs": []
    },
    {
      "cell_type": "code",
      "metadata": {
        "id": "DP1bWfc7RW4-",
        "colab_type": "code",
        "colab": {}
      },
      "source": [
        "pares=[]\n",
        "radio=1.3\n",
        "for i in np.arange(n):\n",
        "  vec_serie=vecinos(df_dist,radio,i)\n",
        "  lista=(list(vec_serie.index.values)) \n",
        "  for p in lista:\n",
        "    if (p != i):\n",
        "      pares.append([i,p])"
      ],
      "execution_count": null,
      "outputs": []
    },
    {
      "cell_type": "code",
      "metadata": {
        "id": "AqDyxlSDRRJ0",
        "colab_type": "code",
        "colab": {}
      },
      "source": [
        "G = nx.Graph()\n",
        "G.add_edges_from(pares)"
      ],
      "execution_count": null,
      "outputs": []
    },
    {
      "cell_type": "code",
      "metadata": {
        "id": "i6PJKJPNOBuv",
        "colab_type": "code",
        "colab": {}
      },
      "source": [
        "lista = []\n",
        "for i in np.arange(n):\n",
        "  lista.append(np.array([df_loc['Lon'].values[i],\n",
        "                         df_loc['Lat'].values[i]]))\n",
        "#display(lista)"
      ],
      "execution_count": null,
      "outputs": []
    },
    {
      "cell_type": "code",
      "metadata": {
        "id": "uGD0WW8gQkbj",
        "colab_type": "code",
        "colab": {
          "base_uri": "https://localhost:8080/",
          "height": 405
        },
        "outputId": "58b6a8e2-f8d4-4c63-9dd9-e5e5eacff3d0"
      },
      "source": [
        "fig, ax = plt.subplots(figsize=(8,6))\n",
        "nx.draw(G,pos=lista)\n",
        "\n",
        "mplleaflet.display(fig = fig)"
      ],
      "execution_count": null,
      "outputs": [
        {
          "output_type": "execute_result",
          "data": {
            "text/html": [
              "<iframe src=\"data:text/html;base64,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\" width=\"100%\" height=\"360\"></iframe>"
            ],
            "text/plain": [
              "<IPython.core.display.HTML object>"
            ]
          },
          "metadata": {
            "tags": []
          },
          "execution_count": 11
        }
      ]
    }
  ]
}