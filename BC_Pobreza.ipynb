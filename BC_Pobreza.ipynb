{
  "nbformat": 4,
  "nbformat_minor": 0,
  "metadata": {
    "colab": {
      "name": "Copia de BC_Pobreza.ipynb",
      "provenance": [],
      "include_colab_link": true
    },
    "kernelspec": {
      "name": "python3",
      "display_name": "Python 3"
    }
  },
  "cells": [
    {
      "cell_type": "markdown",
      "metadata": {
        "id": "view-in-github",
        "colab_type": "text"
      },
      "source": [
        "<a href=\"https://colab.research.google.com/github/ItchelTG/CdeCMx/blob/master/Copia_de_BC_Pobreza.ipynb\" target=\"_parent\"><img src=\"https://colab.research.google.com/assets/colab-badge.svg\" alt=\"Open In Colab\"/></a>"
      ]
    },
    {
      "cell_type": "code",
      "metadata": {
        "id": "1jN6ModRjYjX",
        "colab_type": "code",
        "colab": {
          "base_uri": "https://localhost:8080/",
          "height": 296
        },
        "outputId": "c0a69b0d-d10d-450f-a71e-e54f2d66f619"
      },
      "source": [
        "import numpy as np \n",
        "import matplotlib.pyplot as plt \n",
        "\n",
        "n_groups = 5\n",
        "\n",
        "BC_pob = [22.7, 34.3, 28.8, 29, 16.2]\n",
        "\n",
        "fig, ax = plt.subplots(figsize=(8, 4))\n",
        "\n",
        "index = np.arange(n_groups) \n",
        "bar_width = 0.5\n",
        "\n",
        "rects1 = plt.bar(index, BC_pob, bar_width, color='g', \n",
        "    alpha= 0.5) \n",
        "\n",
        "plt.xlabel('Municipios') \n",
        "plt.ylabel('% población') \n",
        "plt.title('Población no pobre y no vulnerable') \n",
        "plt.xticks(index, ('Ensenada', 'Mexicali', 'Tecate', 'Tijuana', 'Playas de Rosarito')) \n",
        "\n",
        "for rect in rects1: \n",
        "    height = rect.get_height() \n",
        "    ax.text(rect.get_x() + rect.get_width()/2., 0.99*height, \n",
        "      '%d' % int(height) + \"%\", ha='center', va='bottom') \n",
        "\n",
        "plt.tight_layout() \n",
        "plt.savefig('BC_NoPobreza.png', bbox_inches='tight')\n",
        "plt.show()"
      ],
      "execution_count": null,
      "outputs": [
        {
          "output_type": "display_data",
          "data": {
            "image/png": "[encoded data removed]",
            "text/plain": [
              "<Figure size 576x288 with 1 Axes>"
            ]
          },
          "metadata": {
            "tags": [],
            "needs_background": "light"
          }
        }
      ]
    },
    {
      "cell_type": "code",
      "metadata": {
        "id": "PHk9PNrAjdt6",
        "colab_type": "code",
        "colab": {}
      },
      "source": [
        ""
      ],
      "execution_count": null,
      "outputs": []
    }
  ]
}
