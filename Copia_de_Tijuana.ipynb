{
  "nbformat": 4,
  "nbformat_minor": 0,
  "metadata": {
    "colab": {
      "name": "Copia de Tijuana.ipynb",
      "provenance": [],
      "include_colab_link": true
    },
    "kernelspec": {
      "name": "python3",
      "display_name": "Python 3"
    }
  },
  "cells": [
    {
      "cell_type": "markdown",
      "metadata": {
        "id": "view-in-github",
        "colab_type": "text"
      },
      "source": [
        "<a href=\"https://colab.research.google.com/github/ItchelTG/CdeCMx/blob/master/Copia_de_Tijuana.ipynb\" target=\"_parent\"><img src=\"https://colab.research.google.com/assets/colab-badge.svg\" alt=\"Open In Colab\"/></a>"
      ]
    },
    {
      "cell_type": "code",
      "metadata": {
        "id": "oxrAy8U8Wy0T",
        "colab_type": "code",
        "colab": {}
      },
      "source": [
        "import numpy as np # Load the numpy library\n",
        "import matplotlib.pyplot as plt\n",
        "from matplotlib.dates import date2num, num2date, datetime\n",
        "from matplotlib import rcParams as rcp"
      ],
      "execution_count": null,
      "outputs": []
    },
    {
      "cell_type": "code",
      "metadata": {
        "id": "KTpHuvEUYCuR",
        "colab_type": "code",
        "colab": {}
      },
      "source": [
        "rcp['lines.linewidth'] = 4 #Cambiar el tamaño de línea\n",
        "rcp['font.family'] = 'sans serif'\n",
        "rcp['font.size'] = 10"
      ],
      "execution_count": null,
      "outputs": []
    },
    {
      "cell_type": "code",
      "metadata": {
        "id": "XaM9y5NPYMay",
        "colab_type": "code",
        "colab": {
          "base_uri": "https://localhost:8080/",
          "height": 141
        },
        "outputId": "44b4afb3-7ea5-401f-a23e-ed6fdeaf5995"
      },
      "source": [
        "!git clone https://github.com/cdcmx2020a/group_A_AlmaJair.git"
      ],
      "execution_count": null,
      "outputs": [
        {
          "output_type": "stream",
          "text": [
            "Cloning into 'group_A_AlmaJair'...\n",
            "remote: Enumerating objects: 297, done.\u001b[K\n",
            "remote: Counting objects: 100% (297/297), done.\u001b[K\n",
            "remote: Compressing objects: 100% (227/227), done.\u001b[K\n",
            "remote: Total 297 (delta 114), reused 215 (delta 65), pack-reused 0\u001b[K\n",
            "Receiving objects: 100% (297/297), 43.24 MiB | 12.24 MiB/s, done.\n",
            "Resolving deltas: 100% (114/114), done.\n"
          ],
          "name": "stdout"
        }
      ]
    },
    {
      "cell_type": "code",
      "metadata": {
        "id": "Xs4o77eIYM6f",
        "colab_type": "code",
        "colab": {}
      },
      "source": [
        "cases = np.loadtxt('/content/group_A_AlmaJair/datos_covid/diario_estado.csv', delimiter=',')"
      ],
      "execution_count": null,
      "outputs": []
    },
    {
      "cell_type": "code",
      "metadata": {
        "id": "tCepnL17YPHx",
        "colab_type": "code",
        "colab": {}
      },
      "source": [
        "mat = np.loadtxt('/content/group_A_AlmaJair/datos_covid/casos_diarios_tijuana.csv',delimiter=',')"
      ],
      "execution_count": null,
      "outputs": []
    },
    {
      "cell_type": "code",
      "metadata": {
        "id": "ovZ6JtBJYRmQ",
        "colab_type": "code",
        "colab": {
          "base_uri": "https://localhost:8080/",
          "height": 35
        },
        "outputId": "dde8baab-e382-4aa5-ca70-6582581d316c"
      },
      "source": [
        "time = mat[0,:]\n",
        "str(mat[0,0])"
      ],
      "execution_count": null,
      "outputs": [
        {
          "output_type": "execute_result",
          "data": {
            "application/vnd.google.colaboratory.intrinsic+json": {
              "type": "string"
            },
            "text/plain": [
              "'12012020.0'"
            ]
          },
          "metadata": {
            "tags": []
          },
          "execution_count": 7
        }
      ]
    },
    {
      "cell_type": "code",
      "metadata": {
        "id": "xXcvadGNYUPM",
        "colab_type": "code",
        "colab": {}
      },
      "source": [
        "cases_tij = mat[1,:]"
      ],
      "execution_count": null,
      "outputs": []
    },
    {
      "cell_type": "code",
      "metadata": {
        "id": "BdFu-CoTYWpO",
        "colab_type": "code",
        "colab": {}
      },
      "source": [
        "time_final = np.zeros(time.shape[0])\n",
        "for ii in range(time.shape[0]):\n",
        "    if np.ma.is_masked(time[ii]) == False:\n",
        "        if len(str(time[ii])) == 10: #Genera string del valor de la fecha ¿cuántas cifras tiene?\n",
        "            time_final[ii] = date2num(datetime.datetime(np.int(str(time[ii])[4:-2]), np.int(str(time[ii])[2:4]), np.int(str(time[ii])[0:2])))\n",
        "        else:\n",
        "            time_final[ii] = date2num(datetime.datetime(np.int(str(time[ii])[3:-2]), np.int(str(time[ii])[1:3]),\n",
        "                                                            np.int(str(time[ii])[0:1])))"
      ],
      "execution_count": null,
      "outputs": []
    },
    {
      "cell_type": "code",
      "metadata": {
        "id": "r3AFL-8pYli_",
        "colab_type": "code",
        "colab": {}
      },
      "source": [
        "temp_mat = np.loadtxt('/content/group_A_AlmaJair/datos_covid/temp_diaria_2020_tijuana.csv', delimiter=',')"
      ],
      "execution_count": null,
      "outputs": []
    },
    {
      "cell_type": "code",
      "metadata": {
        "id": "n233UL5fYoJG",
        "colab_type": "code",
        "colab": {}
      },
      "source": [
        "temp_mean = temp_mat[:,3] #Temperatura promedio\n",
        "temp_min = temp_mat[:,4] #Temperatura mínima\n",
        "temp_max = temp_mat[:,5] #Temperatura máxima"
      ],
      "execution_count": null,
      "outputs": []
    },
    {
      "cell_type": "code",
      "metadata": {
        "id": "ed1l-btQYsks",
        "colab_type": "code",
        "colab": {}
      },
      "source": [
        "year = temp_mat[:,0]\n",
        "month = temp_mat[:,1]\n",
        "day = temp_mat[:,2]\n",
        "time_final_temp = np.zeros(year.shape[0])\n",
        "for ii in range(year.shape[0]):\n",
        "    time_final_temp[ii] = date2num(datetime.datetime(np.int(year[ii]), np.int(month[ii]),\n",
        "                         np.int(day[ii])))"
      ],
      "execution_count": null,
      "outputs": []
    },
    {
      "cell_type": "code",
      "metadata": {
        "id": "nCrycV4hYtIR",
        "colab_type": "code",
        "colab": {}
      },
      "source": [
        "def running_mean(x, N):\n",
        "    cumsum = np.cumsum(np.insert(x, 0, 0)) \n",
        "    return (cumsum[N:] - cumsum[:-N]) / float(N)"
      ],
      "execution_count": null,
      "outputs": []
    },
    {
      "cell_type": "code",
      "metadata": {
        "id": "d8R9MpSoYxYU",
        "colab_type": "code",
        "colab": {}
      },
      "source": [
        "cases_tij_runn = running_mean(cases_tij[1:], 14)"
      ],
      "execution_count": null,
      "outputs": []
    },
    {
      "cell_type": "code",
      "metadata": {
        "id": "BZoiKr_TYzzB",
        "colab_type": "code",
        "colab": {}
      },
      "source": [
        "temp_tij_runn = running_mean(temp_mean[1:], 14)"
      ],
      "execution_count": null,
      "outputs": []
    },
    {
      "cell_type": "code",
      "metadata": {
        "id": "G_cqzmqAY1_O",
        "colab_type": "code",
        "colab": {
          "base_uri": "https://localhost:8080/",
          "height": 281
        },
        "outputId": "5d17f960-3aff-4a82-c281-049fe5f0d658"
      },
      "source": [
        "fig, ax = plt.subplots(1, 1, sharex=True, figsize=(8, 4))\n",
        "tit = 'Temperatura promedio y casos en Tijuana'\n",
        "ax1 = ax \n",
        "ax1.plot(num2date(time_final_temp[len(temp_mean)-len(temp_tij_runn):]), temp_tij_runn, lw=2, color='b', label='temp')\n",
        "ax1.legend(loc=1) \n",
        "ax2 = ax1.twinx()\n",
        "ax2.plot(num2date(time_final[len(cases_tij)-len(cases_tij_runn):]), cases_tij_runn, lw=2, color='r', label='No. casos')\n",
        "ax2.set_title(tit)\n",
        "ax2.set_ylabel('Casos diarios')\n",
        "ax2.legend(loc=2) \n",
        "fi1 = date2num(datetime.datetime.strptime('2020-01', '%Y-%m'))\n",
        "fi2 = date2num(datetime.datetime.strptime('2020-09', '%Y-%m'))\n",
        "ax2.set_xlim(fi1, fi2)\n",
        "ax1.set_ylabel('Temperatura $^oC$')\n",
        "plt.savefig('Tijuana.png', bbox_inches='tight')"
      ],
      "execution_count": null,
      "outputs": [
        {
          "output_type": "display_data",
          "data": {
            "image/png": "[encoded data removed]",
            "text/plain": [
              "<Figure size 576x288 with 2 Axes>"
            ]
          },
          "metadata": {
            "tags": [],
            "needs_background": "light"
          }
        }
      ]
    },
    {
      "cell_type": "code",
      "metadata": {
        "id": "NEAL8TwCud68",
        "colab_type": "code",
        "colab": {}
      },
      "source": [
        ""
      ],
      "execution_count": null,
      "outputs": []
    }
  ]
}